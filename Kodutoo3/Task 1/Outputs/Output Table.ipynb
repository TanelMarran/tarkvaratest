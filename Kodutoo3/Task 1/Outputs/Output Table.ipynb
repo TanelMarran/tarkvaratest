{
 "cells": [
  {
   "cell_type": "code",
   "execution_count": 3,
   "metadata": {},
   "outputs": [],
   "source": [
    "import os\n",
    "import pandas as pd"
   ]
  },
  {
   "cell_type": "code",
   "execution_count": 124,
   "metadata": {},
   "outputs": [],
   "source": [
    "def readtables(directory):\n",
    "    tables = list()\n",
    "    with os.scandir(directory + '/') as entries:\n",
    "        for entry in entries:\n",
    "            tables.append(pd.read_csv(directory + '/' + entry.name))\n",
    "    return tables\n",
    "\n",
    "def total(table):\n",
    "    return len(table)\n",
    "\n",
    "def geterrors(df):\n",
    "    return df[df['Result'].str.match('error')]\n",
    "\n",
    "def geterrors_unique(df):\n",
    "    return df[df['Result'].str.match('error')].drop_duplicates()\n",
    "\n",
    "def failureset(df):\n",
    "    return geterrors(df)['Result'].unique()\n",
    "\n",
    "def formatTable(directory):\n",
    "    tables = readtables(directory)\n",
    "    errors = pd.DataFrame(columns=tables[0].columns)\n",
    "    data = []\n",
    "    for n, df in enumerate(tables):\n",
    "        entry = []\n",
    "        entry.append(n+1)\n",
    "        entry.append(directory)\n",
    "        entry.append(total(df))\n",
    "        entry.append(len(geterrors(df)))\n",
    "        entry.append(str(set(failureset(df))))\n",
    "        entry.append(0)\n",
    "        \n",
    "        errors = errors.append(geterrors_unique(df)).drop_duplicates()\n",
    "        \n",
    "        entry.append(len(errors))\n",
    "        if n == 0:\n",
    "            entry[5] = entry[6]\n",
    "        else:\n",
    "            entry[5] = entry[6]-data[n-1][6]\n",
    "        print(entry)\n",
    "        data.append(entry)\n",
    "    \n",
    "    output = pd.DataFrame(data,columns=[\"T\",\"Algorithm\",\"No. of generated test cases\",\"No. Of failures (total, including duplicates)\",\"Set of unique failures (e.g. error1, error 2)\",\"No. Of unique failures\",\"Cumulative No. Of unique failures up to strength t\"])\n",
    "    return output"
   ]
  },
  {
   "cell_type": "code",
   "execution_count": 129,
   "metadata": {},
   "outputs": [
    {
     "name": "stdout",
     "output_type": "stream",
     "text": [
      "[1, 'IPOG-F', 12, 0, 'set()', 0, 0]\n",
      "[2, 'IPOG-F', 96, 1, \"{'error 1'}\", 1, 1]\n",
      "[3, 'IPOG-F', 481, 6, \"{'error 2', 'error 1'}\", 6, 7]\n",
      "[4, 'IPOG-F', 2402, 31, \"{'error 2', 'error 1'}\", 31, 38]\n",
      "[5, 'IPOG-F', 9604, 125, \"{'error 3', 'error 2', 'error 1', 'error 4'}\", 123, 161]\n",
      "[6, 'IPOG-F', 29167, 391, \"{'error 5', 'error 4', 'error 3', 'error 2', 'error 1'}\", 373, 534]\n",
      "[7, 'IPOG-F', 63064, 859, \"{'error 5', 'error 4', 'error 3', 'error 2', 'error 1'}\", 707, 1241]\n",
      "[8, 'IPOG-F', 115204, 1548, \"{'error 5', 'error 4', 'error 3', 'error 2', 'error 1'}\", 926, 2167]\n",
      "[9, 'IPOG-F', 230400, 3096, \"{'error 5', 'error 4', 'error 3', 'error 2', 'error 1'}\", 929, 3096]\n"
     ]
    }
   ],
   "source": [
    "result = formatTable('IPOG-F')"
   ]
  },
  {
   "cell_type": "code",
   "execution_count": 131,
   "metadata": {},
   "outputs": [],
   "source": [
    "result.to_csv('output-IPOG-F.csv',index=False)"
   ]
  }
 ],
 "metadata": {
  "kernelspec": {
   "display_name": "Python 3",
   "language": "python",
   "name": "python3"
  },
  "language_info": {
   "codemirror_mode": {
    "name": "ipython",
    "version": 3
   },
   "file_extension": ".py",
   "mimetype": "text/x-python",
   "name": "python",
   "nbconvert_exporter": "python",
   "pygments_lexer": "ipython3",
   "version": "3.7.4"
  }
 },
 "nbformat": 4,
 "nbformat_minor": 2
}
